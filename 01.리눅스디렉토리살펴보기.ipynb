{
 "cells": [
  {
   "cell_type": "markdown",
   "id": "aac0c279",
   "metadata": {},
   "source": [
    "# 리눅스 디렉토리 살펴보기\n",
    "\n",
    "#### [다룰내용]\n",
    "1. 리눅스 디렉토리 구조\n",
    "2. 디렉토리별 역할"
   ]
  },
  {
   "cell_type": "markdown",
   "id": "a6967378",
   "metadata": {},
   "source": [
    "모든 리눅스는 <span style=\"color:red;font-weight:bold\">파일 시스템 계층구조 표준(Filesystem Hierachy Standard, FHS)</span>라는 패키지 구조를 따르고 있다.\n",
    "\n",
    "\n",
    "**[Root]**\n",
    "- **/bin : 리눅스 기본 명령어** <span style=\"color:blue;\">(-> usr/bin)</span>\n",
    "- /opt \n",
    "- /boot\n",
    "- /root : ROOT 사용자의 홈 디렉토리\n",
    "- /dev : 하드웨어 장치 파일\n",
    "- **/sbin : 리눅스 시스템 관리 명령어** <span style=\"color:blue;\">(-> usr/sbin)</span>\n",
    "- **/etc : 시스템 설정 파일**\n",
    "  - passwd : 이용자 정보와 패스워드 정보\n",
    "  - hostname : 호스트 목록\n",
    "  - httpd/conf.d/httpd.conf : 웹서버 설정파일\n",
    "- **/home : 사용자 홈 디렉토리**\n",
    "- /tmp : 임시 디렉토리\n",
    "- **/lib : 시스템 명령어들이 동작하는데 필요한 라이브러리 파일들 (*.so)** <span style=\"color:blue;\">(-> usr/lib)</span>\n",
    "- /tmp\n",
    "- **/usr : 애플리케이션이나 유틸리티 설치 디렉토리**\n",
    "  - <span style=\"color:blue\">/bin : 심볼릭 링크 주소</span>\n",
    "  - <span style=\"color:blue;\"> /lib : 심볼릭 링크 주소</span>\n",
    "  - <span style=\"color:blue\">/sbin : 심볼릭 링크 주소</span>\n",
    "  - <span style=\"color:red\">/include</span>\n",
    "  - <span style=\"color:red\">/local</span>\n",
    "- /meta\n",
    "- /var : 빠르게 변하는 파일들이나 어플리케이션 데이터\n",
    "  - <span style=\"color:red\">/cache</span>\n",
    "  - <span style=\"color:red\">/log</span>\n",
    "  - <span style=\"color:red\">/spool</span>\n",
    "  - <span style=\"color:red\">/tmp</span>\n",
    "- /mnt\n",
    "\n",
    "\n",
    "#### usr/bin, usr/sbin, usr/lib 의 심볼릭 링크의 존재사유\n",
    "\n",
    "- 과거 리눅스는 최상위 디렉토리 아래에 bin, sbin, lib가 위치해 있었다.\n",
    "- 최신 리눅스 버전은 해당 폴더의 위치는 usr/ 아래로 이동하게 되는데\n",
    "- 버전 변경에 따른 영향도를 낮추고 호환성을 높이기 위해 기존 경로를 심볼릭 링크로 남겨 두었다.\n"
   ]
  },
  {
   "cell_type": "markdown",
   "id": "b7bffcf8",
   "metadata": {},
   "source": [
    "## /bin 패키지 명령어들\n",
    "\n",
    "일반 사용자에게 허용되는 명령어들"
   ]
  },
  {
   "cell_type": "code",
   "execution_count": 2,
   "id": "1ce2fd78",
   "metadata": {},
   "outputs": [
    {
     "name": "stdout",
     "output_type": "stream",
     "text": [
      "/Users/daehwajeong/Documents/GitHub/Linux-GetStarted\r\n"
     ]
    }
   ],
   "source": [
    "# 현재 위치한 디렉토리 (present working directory)\n",
    "!pwd"
   ]
  },
  {
   "cell_type": "code",
   "execution_count": 3,
   "id": "3bb4a681",
   "metadata": {},
   "outputs": [],
   "source": [
    "# 디렉토리 변경 (chage directory) + / (root)\n",
    "!cd /"
   ]
  },
  {
   "cell_type": "code",
   "execution_count": 9,
   "id": "3ac71249",
   "metadata": {},
   "outputs": [
    {
     "name": "stdout",
     "output_type": "stream",
     "text": [
      "\u001b[34mApplications\u001b[m\u001b[m \u001b[34mUsers\u001b[m\u001b[m        \u001b[34mcores\u001b[m\u001b[m        \u001b[35mhome\u001b[m\u001b[m         \u001b[34msbin\u001b[m\u001b[m         \u001b[35mvar\u001b[m\u001b[m\r\n",
      "\u001b[34mLibrary\u001b[m\u001b[m      \u001b[34mVolumes\u001b[m\u001b[m      \u001b[34mdev\u001b[m\u001b[m          \u001b[34mopt\u001b[m\u001b[m          \u001b[35mtmp\u001b[m\u001b[m\r\n",
      "\u001b[34mSystem\u001b[m\u001b[m       \u001b[34mbin\u001b[m\u001b[m          \u001b[35metc\u001b[m\u001b[m          \u001b[34mprivate\u001b[m\u001b[m      \u001b[34musr\u001b[m\u001b[m\r\n"
     ]
    }
   ],
   "source": [
    "# 리스트 출력\n",
    "!cd / \n",
    "!ls /"
   ]
  },
  {
   "cell_type": "code",
   "execution_count": 10,
   "id": "eb02d694",
   "metadata": {},
   "outputs": [
    {
     "name": "stdout",
     "output_type": "stream",
     "text": [
      "\u001b[H\u001b[2J"
     ]
    }
   ],
   "source": [
    "# 화면 정리\n",
    "! clear\n",
    "# Ctrl + L"
   ]
  },
  {
   "cell_type": "code",
   "execution_count": 11,
   "id": "28a6cce3",
   "metadata": {},
   "outputs": [
    {
     "name": "stdout",
     "output_type": "stream",
     "text": [
      " 1:37  up 10:42, 2 users, load averages: 1.49 1.76 1.65\r\n",
      "USER     TTY      FROM              LOGIN@  IDLE WHAT\r\n",
      "daehwajeong console  -                수14   10:42 -\r\n",
      "daehwajeong s000     -                 1:05      31 /Users/daehwajeong/opt/anacond\r\n"
     ]
    }
   ],
   "source": [
    "# 현재 접속중인 사용자 정보\n",
    "!w"
   ]
  },
  {
   "cell_type": "markdown",
   "id": "7cd207a0",
   "metadata": {},
   "source": [
    "## /sbin 패키지 명령어들\n",
    "\n",
    "대부분 루트 사용자 권한이 필요한 명령어 들이다."
   ]
  },
  {
   "cell_type": "code",
   "execution_count": null,
   "id": "147021fc",
   "metadata": {},
   "outputs": [],
   "source": [
    "# 사용자 관리\n",
    "useradd # 사용자추가\n",
    "userdel # 사용자삭제\n",
    "usermod # 사용자수정"
   ]
  },
  {
   "cell_type": "code",
   "execution_count": 13,
   "id": "fc0ef781",
   "metadata": {},
   "outputs": [
    {
     "name": "stdout",
     "output_type": "stream",
     "text": [
      "zsh:1: command not found: iptables\n",
      "zsh:1: command not found: ip4tables\n",
      "zsh:1: command not found: ip6tables\n"
     ]
    }
   ],
   "source": [
    "# ip 정보 관리\n",
    "!iptables\n",
    "!ip4tables\n",
    "!ip6tables"
   ]
  },
  {
   "cell_type": "code",
   "execution_count": null,
   "id": "3b0d86c8",
   "metadata": {},
   "outputs": [],
   "source": [
    "# 디스크 관리 명령어\n",
    "lvrename\n",
    "lvreduce\n",
    "lvremove"
   ]
  },
  {
   "cell_type": "markdown",
   "id": "4c2356d4",
   "metadata": {},
   "source": [
    "## /etc 패키지"
   ]
  },
  {
   "cell_type": "code",
   "execution_count": 17,
   "id": "e1ef33b0",
   "metadata": {},
   "outputs": [
    {
     "name": "stdout",
     "output_type": "stream",
     "text": [
      "afpovertcp.cfg                        notify.conf\n",
      "\u001b[35maliases\u001b[m\u001b[m                               ntp.conf\n",
      "aliases.db                            ntp_opendirectory.conf\n",
      "\u001b[34mapache2\u001b[m\u001b[m                               \u001b[34mopenldap\u001b[m\u001b[m\n",
      "\u001b[34masl\u001b[m\u001b[m                                   \u001b[34mpam.d\u001b[m\u001b[m\n",
      "asl.conf                              passwd\n",
      "auto_home                             paths\n",
      "auto_master                           \u001b[34mpaths.d\u001b[m\u001b[m\n",
      "autofs.conf                           \u001b[34mperiodic\u001b[m\u001b[m\n",
      "bashrc                                \u001b[34mpf.anchors\u001b[m\u001b[m\n",
      "bashrc_Apple_Terminal                 pf.conf\n",
      "bootpd.plist                          pf.os\n",
      "com.apple.mis.rtadvd.conf             \u001b[34mpostfix\u001b[m\u001b[m\n",
      "com.apple.screensharing.agent.launchd \u001b[34mppp\u001b[m\u001b[m\n",
      "csh.cshrc                             profile\n",
      "csh.login                             protocols\n",
      "csh.logout                            \u001b[34mracoon\u001b[m\u001b[m\n",
      "\u001b[34mcups\u001b[m\u001b[m                                  rc.common\n",
      "\u001b[34mdefaults\u001b[m\u001b[m                              rc.netboot\n",
      "\u001b[34memond.d\u001b[m\u001b[m                               \u001b[35mresolv.conf\u001b[m\u001b[m\n",
      "find.codes                            rmtab\n",
      "ftpusers                              rpc\n",
      "gettytab                              rtadvd.conf\n",
      "group                                 \u001b[34msecurity\u001b[m\u001b[m\n",
      "hosts                                 services\n",
      "hosts.equiv                           shells\n",
      "irbrc                                 \u001b[34msnmp\u001b[m\u001b[m\n",
      "kern_loader.conf                      \u001b[34mssh\u001b[m\u001b[m\n",
      "krb5.keytab                           \u001b[34mssl\u001b[m\u001b[m\n",
      "\u001b[35mlocaltime\u001b[m\u001b[m                             sudo_lecture\n",
      "locate.rc                             sudoers\n",
      "mail.rc                               \u001b[34msudoers.d\u001b[m\u001b[m\n",
      "man.conf                              syslog.conf\n",
      "manpaths                              ttys\n",
      "\u001b[34mmanpaths.d\u001b[m\u001b[m                            \u001b[34muucp\u001b[m\u001b[m\n",
      "master.passwd                         \u001b[34mwfs\u001b[m\u001b[m\n",
      "nanorc                                xtab\n",
      "networks                              zprofile\n",
      "newsyslog.conf                        zshrc\n",
      "\u001b[34mnewsyslog.d\u001b[m\u001b[m                           zshrc_Apple_Terminal\n",
      "nfs.conf\n",
      "##\n",
      "# User Database\n",
      "# \n",
      "# Note that this file is consulted directly only when the system is running\n",
      "# in single-user mode.  At other times this information is provided by\n",
      "# Open Directory.\n",
      "#\n",
      "# See the opendirectoryd(8) man page for additional information about\n",
      "# Open Directory.\n",
      "##\n",
      "nobody:*:-2:-2:Unprivileged User:/var/empty:/usr/bin/false\n",
      "root:*:0:0:System Administrator:/var/root:/bin/sh\n",
      "daemon:*:1:1:System Services:/var/root:/usr/bin/false\n",
      "_uucp:*:4:4:Unix to Unix Copy Protocol:/var/spool/uucp:/usr/sbin/uucico\n",
      "_taskgated:*:13:13:Task Gate Daemon:/var/empty:/usr/bin/false\n",
      "_networkd:*:24:24:Network Services:/var/networkd:/usr/bin/false\n",
      "_installassistant:*:25:25:Install Assistant:/var/empty:/usr/bin/false\n",
      "_lp:*:26:26:Printing Services:/var/spool/cups:/usr/bin/false\n",
      "_postfix:*:27:27:Postfix Mail Server:/var/spool/postfix:/usr/bin/false\n",
      "_scsd:*:31:31:Service Configuration Service:/var/empty:/usr/bin/false\n",
      "_ces:*:32:32:Certificate Enrollment Service:/var/empty:/usr/bin/false\n",
      "_appstore:*:33:33:Mac App Store Service:/var/db/appstore:/usr/bin/false\n",
      "_mcxalr:*:54:54:MCX AppLaunch:/var/empty:/usr/bin/false\n",
      "_appleevents:*:55:55:AppleEvents Daemon:/var/empty:/usr/bin/false\n",
      "_geod:*:56:56:Geo Services Daemon:/var/db/geod:/usr/bin/false\n",
      "_devdocs:*:59:59:Developer Documentation:/var/empty:/usr/bin/false\n",
      "_sandbox:*:60:60:Seatbelt:/var/empty:/usr/bin/false\n",
      "_mdnsresponder:*:65:65:mDNSResponder:/var/empty:/usr/bin/false\n",
      "_ard:*:67:67:Apple Remote Desktop:/var/empty:/usr/bin/false\n",
      "_www:*:70:70:World Wide Web Server:/Library/WebServer:/usr/bin/false\n",
      "_eppc:*:71:71:Apple Events User:/var/empty:/usr/bin/false\n",
      "_cvs:*:72:72:CVS Server:/var/empty:/usr/bin/false\n",
      "_svn:*:73:73:SVN Server:/var/empty:/usr/bin/false\n",
      "_mysql:*:74:74:MySQL Server:/var/empty:/usr/bin/false\n",
      "_sshd:*:75:75:sshd Privilege separation:/var/empty:/usr/bin/false\n",
      "_qtss:*:76:76:QuickTime Streaming Server:/var/empty:/usr/bin/false\n",
      "_cyrus:*:77:6:Cyrus Administrator:/var/imap:/usr/bin/false\n",
      "_mailman:*:78:78:Mailman List Server:/var/empty:/usr/bin/false\n",
      "_appserver:*:79:79:Application Server:/var/empty:/usr/bin/false\n",
      "_clamav:*:82:82:ClamAV Daemon:/var/virusmails:/usr/bin/false\n",
      "_amavisd:*:83:83:AMaViS Daemon:/var/virusmails:/usr/bin/false\n",
      "_jabber:*:84:84:Jabber XMPP Server:/var/empty:/usr/bin/false\n",
      "_appowner:*:87:87:Application Owner:/var/empty:/usr/bin/false\n",
      "_windowserver:*:88:88:WindowServer:/var/empty:/usr/bin/false\n",
      "_spotlight:*:89:89:Spotlight:/var/empty:/usr/bin/false\n",
      "_tokend:*:91:91:Token Daemon:/var/empty:/usr/bin/false\n",
      "_securityagent:*:92:92:SecurityAgent:/var/db/securityagent:/usr/bin/false\n",
      "_calendar:*:93:93:Calendar:/var/empty:/usr/bin/false\n",
      "_teamsserver:*:94:94:TeamsServer:/var/teamsserver:/usr/bin/false\n",
      "_update_sharing:*:95:-2:Update Sharing:/var/empty:/usr/bin/false\n",
      "_installer:*:96:-2:Installer:/var/empty:/usr/bin/false\n",
      "_atsserver:*:97:97:ATS Server:/var/empty:/usr/bin/false\n",
      "_ftp:*:98:-2:FTP Daemon:/var/empty:/usr/bin/false\n",
      "_unknown:*:99:99:Unknown User:/var/empty:/usr/bin/false\n",
      "_softwareupdate:*:200:200:Software Update Service:/var/db/softwareupdate:/usr/bin/false\n",
      "_coreaudiod:*:202:202:Core Audio Daemon:/var/empty:/usr/bin/false\n",
      "_screensaver:*:203:203:Screensaver:/var/empty:/usr/bin/false\n",
      "_locationd:*:205:205:Location Daemon:/var/db/locationd:/usr/bin/false\n",
      "_trustevaluationagent:*:208:208:Trust Evaluation Agent:/var/empty:/usr/bin/false\n",
      "_timezone:*:210:210:AutoTimeZoneDaemon:/var/empty:/usr/bin/false\n",
      "_lda:*:211:211:Local Delivery Agent:/var/empty:/usr/bin/false\n",
      "_cvmsroot:*:212:212:CVMS Root:/var/empty:/usr/bin/false\n",
      "_usbmuxd:*:213:213:iPhone OS Device Helper:/var/db/lockdown:/usr/bin/false\n",
      "_dovecot:*:214:6:Dovecot Administrator:/var/empty:/usr/bin/false\n",
      "_dpaudio:*:215:215:DP Audio:/var/empty:/usr/bin/false\n",
      "_postgres:*:216:216:PostgreSQL Server:/var/empty:/usr/bin/false\n",
      "_krbtgt:*:217:-2:Kerberos Ticket Granting Ticket:/var/empty:/usr/bin/false\n",
      "_kadmin_admin:*:218:-2:Kerberos Admin Service:/var/empty:/usr/bin/false\n",
      "_kadmin_changepw:*:219:-2:Kerberos Change Password Service:/var/empty:/usr/bin/false\n",
      "_devicemgr:*:220:220:Device Management Server:/var/empty:/usr/bin/false\n",
      "_webauthserver:*:221:221:Web Auth Server:/var/empty:/usr/bin/false\n",
      "_netbios:*:222:222:NetBIOS:/var/empty:/usr/bin/false\n",
      "_warmd:*:224:224:Warm Daemon:/var/empty:/usr/bin/false\n",
      "_dovenull:*:227:227:Dovecot Authentication:/var/empty:/usr/bin/false\n",
      "_netstatistics:*:228:228:Network Statistics Daemon:/var/empty:/usr/bin/false\n",
      "_avbdeviced:*:229:-2:Ethernet AVB Device Daemon:/var/empty:/usr/bin/false\n",
      "_krb_krbtgt:*:230:-2:Open Directory Kerberos Ticket Granting Ticket:/var/empty:/usr/bin/false\n",
      "_krb_kadmin:*:231:-2:Open Directory Kerberos Admin Service:/var/empty:/usr/bin/false\n",
      "_krb_changepw:*:232:-2:Open Directory Kerberos Change Password Service:/var/empty:/usr/bin/false\n",
      "_krb_kerberos:*:233:-2:Open Directory Kerberos:/var/empty:/usr/bin/false\n",
      "_krb_anonymous:*:234:-2:Open Directory Kerberos Anonymous:/var/empty:/usr/bin/false\n",
      "_assetcache:*:235:235:Asset Cache Service:/var/empty:/usr/bin/false\n",
      "_coremediaiod:*:236:236:Core Media IO Daemon:/var/empty:/usr/bin/false\n",
      "_launchservicesd:*:239:239:_launchservicesd:/var/empty:/usr/bin/false\n",
      "_iconservices:*:240:240:IconServices:/var/empty:/usr/bin/false\n",
      "_distnote:*:241:241:DistNote:/var/empty:/usr/bin/false\n",
      "_nsurlsessiond:*:242:242:NSURLSession Daemon:/var/db/nsurlsessiond:/usr/bin/false\n",
      "_displaypolicyd:*:244:244:Display Policy Daemon:/var/empty:/usr/bin/false\n",
      "_astris:*:245:245:Astris Services:/var/db/astris:/usr/bin/false\n",
      "_krbfast:*:246:-2:Kerberos FAST Account:/var/empty:/usr/bin/false\n",
      "_gamecontrollerd:*:247:247:Game Controller Daemon:/var/empty:/usr/bin/false\n",
      "_mbsetupuser:*:248:248:Setup User:/var/setup:/bin/bash\n",
      "_ondemand:*:249:249:On Demand Resource Daemon:/var/db/ondemand:/usr/bin/false\n",
      "_xserverdocs:*:251:251:macOS Server Documents Service:/var/empty:/usr/bin/false\n",
      "_wwwproxy:*:252:252:WWW Proxy:/var/empty:/usr/bin/false\n",
      "_mobileasset:*:253:253:MobileAsset User:/var/ma:/usr/bin/false\n",
      "_findmydevice:*:254:254:Find My Device Daemon:/var/db/findmydevice:/usr/bin/false\n",
      "_datadetectors:*:257:257:DataDetectors:/var/db/datadetectors:/usr/bin/false\n",
      "_captiveagent:*:258:258:captiveagent:/var/empty:/usr/bin/false\n",
      "_ctkd:*:259:259:ctkd Account:/var/empty:/usr/bin/false\n",
      "_applepay:*:260:260:applepay Account:/var/db/applepay:/usr/bin/false\n",
      "_hidd:*:261:261:HID Service User:/var/db/hidd:/usr/bin/false\n",
      "_cmiodalassistants:*:262:262:CoreMedia IO Assistants User:/var/db/cmiodalassistants:/usr/bin/false\n",
      "_analyticsd:*:263:263:Analytics Daemon:/var/db/analyticsd:/usr/bin/false\n",
      "_fpsd:*:265:265:FPS Daemon:/var/db/fpsd:/usr/bin/false\n",
      "_timed:*:266:266:Time Sync Daemon:/var/db/timed:/usr/bin/false\n",
      "_nearbyd:*:268:268:Proximity and Ranging Daemon:/var/db/nearbyd:/usr/bin/false\n",
      "_reportmemoryexception:*:269:269:ReportMemoryException:/var/db/reportmemoryexception:/usr/bin/false\n",
      "_driverkit:*:270:270:DriverKit:/var/empty:/usr/bin/false\n",
      "_diskimagesiod:*:271:271:DiskImages IO Daemon:/var/db/diskimagesiod:/usr/bin/false\n",
      "_logd:*:272:272:Log Daemon:/var/db/diagnostics:/usr/bin/false\n",
      "_appinstalld:*:273:273:App Install Daemon:/var/db/appinstalld:/usr/bin/false\n",
      "_installcoordinationd:*:274:274:Install Coordination Daemon:/var/db/installcoordinationd:/usr/bin/false\n",
      "_demod:*:275:275:Demo Daemon:/var/empty:/usr/bin/false\n",
      "_rmd:*:277:277:Remote Management Daemon:/var/db/rmd:/usr/bin/false\n",
      "_accessoryupdater:*:278:278:Accessory Update Daemon:/var/db/accessoryupdater:/usr/bin/false\n",
      "_knowledgegraphd:*:279:279:Knowledge Graph Daemon:/var/db/knowledgegraphd:/usr/bin/false\n",
      "_coreml:*:280:280:CoreML Services:/var/empty:/usr/bin/false\n",
      "_sntpd:*:281:281:SNTP Server Daemon:/var/empty:/usr/bin/false\n",
      "_trustd:*:282:282:trustd:/var/empty:/usr/bin/false\n",
      "_darwindaemon:*:284:284:Darwin Daemon:/var/db/darwindaemon:/usr/bin/false\n",
      "_notification_proxy:*:285:285:Notification Proxy:/var/empty:/usr/bin/false\n",
      "_oahd:*:441:441:OAH Daemon:/var/empty:/usr/bin/false\n"
     ]
    }
   ],
   "source": [
    "# etc 파일 들\n",
    "# !cat /etc/hostname\n",
    "!ls /etc/\n",
    "!cat /etc/passwd"
   ]
  },
  {
   "cell_type": "markdown",
   "id": "3aea4c66",
   "metadata": {},
   "source": [
    "## /var 패키지\n",
    "\n",
    "수시로 변화하는 자료들을 저장 하는 폴더\n",
    "\n",
    "- log : 모든 오퍼레이션의 수행 이력이 저장되는 로그 패키지이다.\n",
    "- email : email 수신 정보\n"
   ]
  },
  {
   "cell_type": "code",
   "execution_count": 29,
   "id": "008337d2",
   "metadata": {},
   "outputs": [
    {
     "name": "stdout",
     "output_type": "stream",
     "text": [
      "\u001b[34mMobileSoftwareUpdate\u001b[m\u001b[m \u001b[34mlib\u001b[m\u001b[m                  \u001b[34mrpc\u001b[m\u001b[m\r\n",
      "\u001b[34magentx\u001b[m\u001b[m               \u001b[34mlog\u001b[m\u001b[m                  \u001b[34mrun\u001b[m\u001b[m\r\n",
      "\u001b[34mat\u001b[m\u001b[m                   \u001b[34mlogs\u001b[m\u001b[m                 \u001b[34mrwho\u001b[m\u001b[m\r\n",
      "\u001b[34maudit\u001b[m\u001b[m                \u001b[34mma\u001b[m\u001b[m                   \u001b[34mselect\u001b[m\u001b[m\r\n",
      "\u001b[34mbackups\u001b[m\u001b[m              \u001b[34mmail\u001b[m\u001b[m                 \u001b[34msntpd\u001b[m\u001b[m\r\n",
      "\u001b[34mcontainers\u001b[m\u001b[m           \u001b[34mmobile\u001b[m\u001b[m               \u001b[34mspool\u001b[m\u001b[m\r\n",
      "\u001b[34mdb\u001b[m\u001b[m                   \u001b[34mmsgs\u001b[m\u001b[m                 \u001b[30m\u001b[42mtmp\u001b[m\u001b[m\r\n",
      "\u001b[34mempty\u001b[m\u001b[m                \u001b[34mnetboot\u001b[m\u001b[m              \u001b[34mvm\u001b[m\u001b[m\r\n",
      "\u001b[34mfolders\u001b[m\u001b[m              \u001b[34mnetworkd\u001b[m\u001b[m             \u001b[34myp\u001b[m\u001b[m\r\n",
      "\u001b[34minstall\u001b[m\u001b[m              \u001b[34mprotected\u001b[m\u001b[m\r\n",
      "\u001b[34mjabberd\u001b[m\u001b[m              \u001b[34mroot\u001b[m\u001b[m\r\n"
     ]
    }
   ],
   "source": [
    "!ls /var/"
   ]
  },
  {
   "cell_type": "markdown",
   "id": "02570358",
   "metadata": {},
   "source": [
    "## /tmp 패키지\n",
    "\n",
    "임시 파일들이 저장되는 공간"
   ]
  },
  {
   "cell_type": "code",
   "execution_count": 28,
   "id": "b551e541",
   "metadata": {},
   "outputs": [
    {
     "name": "stdout",
     "output_type": "stream",
     "text": [
      "\u001b[34mcom.apple.launchd.PVgnecvcxB\u001b[m\u001b[m fseventsd-uuid\r\n",
      "\u001b[34mcom.google.Keystone\u001b[m\u001b[m          \u001b[34mpowerlog\u001b[m\u001b[m\r\n"
     ]
    }
   ],
   "source": [
    "!ls /tmp/"
   ]
  },
  {
   "cell_type": "markdown",
   "id": "3ee072c7",
   "metadata": {},
   "source": [
    "## /run 패키지\n",
    "\n",
    "최신 버전 리눅스들에서는 클라이언트와 서버간 소켓 통신에 사용되는 임시파일들이 저장되는 공간을 별도로 관리한다."
   ]
  },
  {
   "cell_type": "code",
   "execution_count": 25,
   "id": "b2dd7344",
   "metadata": {},
   "outputs": [
    {
     "name": "stdout",
     "output_type": "stream",
     "text": [
      "\u001b[34mApplications\u001b[m\u001b[m \u001b[34mUsers\u001b[m\u001b[m        \u001b[34mcores\u001b[m\u001b[m        \u001b[35mhome\u001b[m\u001b[m         \u001b[34msbin\u001b[m\u001b[m         \u001b[35mvar\u001b[m\u001b[m\r\n",
      "\u001b[34mLibrary\u001b[m\u001b[m      \u001b[34mVolumes\u001b[m\u001b[m      \u001b[34mdev\u001b[m\u001b[m          \u001b[34mopt\u001b[m\u001b[m          \u001b[35mtmp\u001b[m\u001b[m\r\n",
      "\u001b[34mSystem\u001b[m\u001b[m       \u001b[34mbin\u001b[m\u001b[m          \u001b[35metc\u001b[m\u001b[m          \u001b[34mprivate\u001b[m\u001b[m      \u001b[34musr\u001b[m\u001b[m\r\n"
     ]
    }
   ],
   "source": [
    "!ls /"
   ]
  },
  {
   "cell_type": "markdown",
   "id": "1a7b470f",
   "metadata": {},
   "source": [
    "## /proc 와 /sys 패키지\n",
    "\n",
    "시스템이 사용중인 메모리나 하드웨어 및 가상 파일 시스템들의 정보를 디렉토리 형태로 제공."
   ]
  },
  {
   "cell_type": "code",
   "execution_count": 30,
   "id": "a255fe30",
   "metadata": {},
   "outputs": [
    {
     "name": "stdout",
     "output_type": "stream",
     "text": [
      "\u001b[34mApplications\u001b[m\u001b[m \u001b[34mDeveloper\u001b[m\u001b[m    \u001b[34mDriverKit\u001b[m\u001b[m    \u001b[34mLibrary\u001b[m\u001b[m      \u001b[34mVolumes\u001b[m\u001b[m      \u001b[34miOSSupport\u001b[m\u001b[m\r\n"
     ]
    }
   ],
   "source": [
    "!ls /System/"
   ]
  },
  {
   "cell_type": "markdown",
   "id": "95551475",
   "metadata": {},
   "source": [
    "## /dev 패키지\n",
    "\n",
    "하드웨어 장치파일을 마운트한 디렉토리"
   ]
  },
  {
   "cell_type": "code",
   "execution_count": 27,
   "id": "1b30ce8e",
   "metadata": {},
   "outputs": [
    {
     "name": "stdout",
     "output_type": "stream",
     "text": [
      "\u001b[34m\u001b[43maes_0\u001b[m\u001b[m                       \u001b[34m\u001b[43mptyw4\u001b[m\u001b[m\r\n",
      "\u001b[34m\u001b[43mafsc_type5\u001b[m\u001b[m                  \u001b[34m\u001b[43mptyw5\u001b[m\u001b[m\r\n",
      "\u001b[34m\u001b[46mapfs-raw-device.2.0\u001b[m\u001b[m         \u001b[34m\u001b[43mptyw6\u001b[m\u001b[m\r\n",
      "\u001b[34m\u001b[43mauditpipe\u001b[m\u001b[m                   \u001b[34m\u001b[43mptyw7\u001b[m\u001b[m\r\n",
      "\u001b[34m\u001b[43mauditsessions\u001b[m\u001b[m               \u001b[34m\u001b[43mptyw8\u001b[m\u001b[m\r\n",
      "\u001b[34m\u001b[43mautofs\u001b[m\u001b[m                      \u001b[34m\u001b[43mptyw9\u001b[m\u001b[m\r\n",
      "\u001b[34m\u001b[43mautofs_control\u001b[m\u001b[m              \u001b[34m\u001b[43mptywa\u001b[m\u001b[m\r\n",
      "\u001b[34m\u001b[43mautofs_homedirmounter\u001b[m\u001b[m       \u001b[34m\u001b[43mptywb\u001b[m\u001b[m\r\n",
      "\u001b[34m\u001b[43mautofs_notrigger\u001b[m\u001b[m            \u001b[34m\u001b[43mptywc\u001b[m\u001b[m\r\n",
      "\u001b[34m\u001b[43mautofs_nowait\u001b[m\u001b[m               \u001b[34m\u001b[43mptywd\u001b[m\u001b[m\r\n",
      "\u001b[34m\u001b[43mbpf0\u001b[m\u001b[m                        \u001b[34m\u001b[43mptywe\u001b[m\u001b[m\r\n",
      "\u001b[34m\u001b[43mbpf1\u001b[m\u001b[m                        \u001b[34m\u001b[43mptywf\u001b[m\u001b[m\r\n",
      "\u001b[34m\u001b[43mbpf2\u001b[m\u001b[m                        \u001b[34m\u001b[43mrandom\u001b[m\u001b[m\r\n",
      "\u001b[34m\u001b[43mbpf3\u001b[m\u001b[m                        \u001b[34m\u001b[43mrdisk0\u001b[m\u001b[m\r\n",
      "\u001b[34m\u001b[43mconsole\u001b[m\u001b[m                     \u001b[34m\u001b[43mrdisk0s1\u001b[m\u001b[m\r\n",
      "\u001b[34m\u001b[43mcu.Bluetooth-Incoming-Port\u001b[m\u001b[m  \u001b[34m\u001b[43mrdisk0s2\u001b[m\u001b[m\r\n",
      "\u001b[34m\u001b[43mcu.wlan-debug\u001b[m\u001b[m               \u001b[34m\u001b[43mrdisk0s3\u001b[m\u001b[m\r\n",
      "\u001b[34m\u001b[46mdisk0\u001b[m\u001b[m                       \u001b[34m\u001b[43mrdisk1\u001b[m\u001b[m\r\n",
      "\u001b[34m\u001b[46mdisk0s1\u001b[m\u001b[m                     \u001b[34m\u001b[43mrdisk1s1\u001b[m\u001b[m\r\n",
      "\u001b[34m\u001b[46mdisk0s2\u001b[m\u001b[m                     \u001b[34m\u001b[43mrdisk1s2\u001b[m\u001b[m\r\n",
      "\u001b[34m\u001b[46mdisk0s3\u001b[m\u001b[m                     \u001b[34m\u001b[43mrdisk1s3\u001b[m\u001b[m\r\n",
      "\u001b[34m\u001b[46mdisk1\u001b[m\u001b[m                       \u001b[34m\u001b[43mrdisk1s4\u001b[m\u001b[m\r\n",
      "\u001b[34m\u001b[46mdisk1s1\u001b[m\u001b[m                     \u001b[34m\u001b[43mrdisk2\u001b[m\u001b[m\r\n",
      "\u001b[34m\u001b[46mdisk1s2\u001b[m\u001b[m                     \u001b[34m\u001b[43mrdisk2s1\u001b[m\u001b[m\r\n",
      "\u001b[34m\u001b[46mdisk1s3\u001b[m\u001b[m                     \u001b[34m\u001b[43mrdisk2s2\u001b[m\u001b[m\r\n",
      "\u001b[34m\u001b[46mdisk1s4\u001b[m\u001b[m                     \u001b[34m\u001b[43mrdisk3\u001b[m\u001b[m\r\n",
      "\u001b[34m\u001b[46mdisk2\u001b[m\u001b[m                       \u001b[34m\u001b[43mrdisk3s1\u001b[m\u001b[m\r\n",
      "\u001b[34m\u001b[46mdisk2s1\u001b[m\u001b[m                     \u001b[34m\u001b[43mrdisk3s2\u001b[m\u001b[m\r\n",
      "\u001b[34m\u001b[46mdisk2s2\u001b[m\u001b[m                     \u001b[34m\u001b[43mrdisk3s3\u001b[m\u001b[m\r\n",
      "\u001b[34m\u001b[46mdisk3\u001b[m\u001b[m                       \u001b[34m\u001b[43mrdisk3s3s1\u001b[m\u001b[m\r\n",
      "\u001b[34m\u001b[46mdisk3s1\u001b[m\u001b[m                     \u001b[34m\u001b[43mrdisk3s4\u001b[m\u001b[m\r\n",
      "\u001b[34m\u001b[46mdisk3s2\u001b[m\u001b[m                     \u001b[34m\u001b[43mrdisk3s5\u001b[m\u001b[m\r\n",
      "\u001b[34m\u001b[46mdisk3s3\u001b[m\u001b[m                     \u001b[34m\u001b[43mrdisk3s6\u001b[m\u001b[m\r\n",
      "\u001b[34m\u001b[46mdisk3s3s1\u001b[m\u001b[m                   \u001b[34m\u001b[43mrdisk4\u001b[m\u001b[m\r\n",
      "\u001b[34m\u001b[46mdisk3s4\u001b[m\u001b[m                     \u001b[34m\u001b[43mrdisk4s1\u001b[m\u001b[m\r\n",
      "\u001b[34m\u001b[46mdisk3s5\u001b[m\u001b[m                     \u001b[35mstderr\u001b[m\u001b[m\r\n",
      "\u001b[34m\u001b[46mdisk3s6\u001b[m\u001b[m                     \u001b[35mstdin\u001b[m\u001b[m\r\n",
      "\u001b[34m\u001b[46mdisk4\u001b[m\u001b[m                       \u001b[35mstdout\u001b[m\u001b[m\r\n",
      "\u001b[34m\u001b[46mdisk4s1\u001b[m\u001b[m                     \u001b[34m\u001b[43mtty\u001b[m\u001b[m\r\n",
      "\u001b[34m\u001b[43mdtrace\u001b[m\u001b[m                      \u001b[34m\u001b[43mtty.Bluetooth-Incoming-Port\u001b[m\u001b[m\r\n",
      "\u001b[34m\u001b[43mdtracehelper\u001b[m\u001b[m                \u001b[34m\u001b[43mtty.wlan-debug\u001b[m\u001b[m\r\n",
      "\u001b[34m\u001b[43mfbt\u001b[m\u001b[m                         \u001b[34m\u001b[43mttyp0\u001b[m\u001b[m\r\n",
      "\u001b[34mfd\u001b[m\u001b[m                          \u001b[34m\u001b[43mttyp1\u001b[m\u001b[m\r\n",
      "\u001b[34m\u001b[43mfsevents\u001b[m\u001b[m                    \u001b[34m\u001b[43mttyp2\u001b[m\u001b[m\r\n",
      "\u001b[34m\u001b[43mio8log\u001b[m\u001b[m                      \u001b[34m\u001b[43mttyp3\u001b[m\u001b[m\r\n",
      "\u001b[34m\u001b[43mio8logmt\u001b[m\u001b[m                    \u001b[34m\u001b[43mttyp4\u001b[m\u001b[m\r\n",
      "\u001b[34m\u001b[43mio8logtemp\u001b[m\u001b[m                  \u001b[34m\u001b[43mttyp5\u001b[m\u001b[m\r\n",
      "\u001b[34m\u001b[43mklog\u001b[m\u001b[m                        \u001b[34m\u001b[43mttyp6\u001b[m\u001b[m\r\n",
      "\u001b[34m\u001b[43mlockstat\u001b[m\u001b[m                    \u001b[34m\u001b[43mttyp7\u001b[m\u001b[m\r\n",
      "\u001b[34mmonotonic\u001b[m\u001b[m                   \u001b[34m\u001b[43mttyp8\u001b[m\u001b[m\r\n",
      "\u001b[34m\u001b[43mnull\u001b[m\u001b[m                        \u001b[34m\u001b[43mttyp9\u001b[m\u001b[m\r\n",
      "\u001b[34m\u001b[43moslog\u001b[m\u001b[m                       \u001b[34m\u001b[43mttypa\u001b[m\u001b[m\r\n",
      "\u001b[34m\u001b[43moslog_stream\u001b[m\u001b[m                \u001b[34m\u001b[43mttypb\u001b[m\u001b[m\r\n",
      "\u001b[34m\u001b[43mperfmon_core\u001b[m\u001b[m                \u001b[34m\u001b[43mttypc\u001b[m\u001b[m\r\n",
      "\u001b[34m\u001b[43mperfmon_uncore\u001b[m\u001b[m              \u001b[34m\u001b[43mttypd\u001b[m\u001b[m\r\n",
      "\u001b[34m\u001b[43mpf\u001b[m\u001b[m                          \u001b[34m\u001b[43mttype\u001b[m\u001b[m\r\n",
      "\u001b[34m\u001b[43mpfm\u001b[m\u001b[m                         \u001b[34m\u001b[43mttypf\u001b[m\u001b[m\r\n",
      "\u001b[34m\u001b[43mprofile\u001b[m\u001b[m                     \u001b[34m\u001b[43mttyq0\u001b[m\u001b[m\r\n",
      "\u001b[34m\u001b[43mptmx\u001b[m\u001b[m                        \u001b[34m\u001b[43mttyq1\u001b[m\u001b[m\r\n",
      "\u001b[34m\u001b[43mptyp0\u001b[m\u001b[m                       \u001b[34m\u001b[43mttyq2\u001b[m\u001b[m\r\n",
      "\u001b[34m\u001b[43mptyp1\u001b[m\u001b[m                       \u001b[34m\u001b[43mttyq3\u001b[m\u001b[m\r\n",
      "\u001b[34m\u001b[43mptyp2\u001b[m\u001b[m                       \u001b[34m\u001b[43mttyq4\u001b[m\u001b[m\r\n",
      "\u001b[34m\u001b[43mptyp3\u001b[m\u001b[m                       \u001b[34m\u001b[43mttyq5\u001b[m\u001b[m\r\n",
      "\u001b[34m\u001b[43mptyp4\u001b[m\u001b[m                       \u001b[34m\u001b[43mttyq6\u001b[m\u001b[m\r\n",
      "\u001b[34m\u001b[43mptyp5\u001b[m\u001b[m                       \u001b[34m\u001b[43mttyq7\u001b[m\u001b[m\r\n",
      "\u001b[34m\u001b[43mptyp6\u001b[m\u001b[m                       \u001b[34m\u001b[43mttyq8\u001b[m\u001b[m\r\n",
      "\u001b[34m\u001b[43mptyp7\u001b[m\u001b[m                       \u001b[34m\u001b[43mttyq9\u001b[m\u001b[m\r\n",
      "\u001b[34m\u001b[43mptyp8\u001b[m\u001b[m                       \u001b[34m\u001b[43mttyqa\u001b[m\u001b[m\r\n",
      "\u001b[34m\u001b[43mptyp9\u001b[m\u001b[m                       \u001b[34m\u001b[43mttyqb\u001b[m\u001b[m\r\n",
      "\u001b[34m\u001b[43mptypa\u001b[m\u001b[m                       \u001b[34m\u001b[43mttyqc\u001b[m\u001b[m\r\n",
      "\u001b[34m\u001b[43mptypb\u001b[m\u001b[m                       \u001b[34m\u001b[43mttyqd\u001b[m\u001b[m\r\n",
      "\u001b[34m\u001b[43mptypc\u001b[m\u001b[m                       \u001b[34m\u001b[43mttyqe\u001b[m\u001b[m\r\n",
      "\u001b[34m\u001b[43mptypd\u001b[m\u001b[m                       \u001b[34m\u001b[43mttyqf\u001b[m\u001b[m\r\n",
      "\u001b[34m\u001b[43mptype\u001b[m\u001b[m                       \u001b[34m\u001b[43mttyr0\u001b[m\u001b[m\r\n",
      "\u001b[34m\u001b[43mptypf\u001b[m\u001b[m                       \u001b[34m\u001b[43mttyr1\u001b[m\u001b[m\r\n",
      "\u001b[34m\u001b[43mptyq0\u001b[m\u001b[m                       \u001b[34m\u001b[43mttyr2\u001b[m\u001b[m\r\n",
      "\u001b[34m\u001b[43mptyq1\u001b[m\u001b[m                       \u001b[34m\u001b[43mttyr3\u001b[m\u001b[m\r\n",
      "\u001b[34m\u001b[43mptyq2\u001b[m\u001b[m                       \u001b[34m\u001b[43mttyr4\u001b[m\u001b[m\r\n",
      "\u001b[34m\u001b[43mptyq3\u001b[m\u001b[m                       \u001b[34m\u001b[43mttyr5\u001b[m\u001b[m\r\n",
      "\u001b[34m\u001b[43mptyq4\u001b[m\u001b[m                       \u001b[34m\u001b[43mttyr6\u001b[m\u001b[m\r\n",
      "\u001b[34m\u001b[43mptyq5\u001b[m\u001b[m                       \u001b[34m\u001b[43mttyr7\u001b[m\u001b[m\r\n",
      "\u001b[34m\u001b[43mptyq6\u001b[m\u001b[m                       \u001b[34m\u001b[43mttyr8\u001b[m\u001b[m\r\n",
      "\u001b[34m\u001b[43mptyq7\u001b[m\u001b[m                       \u001b[34m\u001b[43mttyr9\u001b[m\u001b[m\r\n",
      "\u001b[34m\u001b[43mptyq8\u001b[m\u001b[m                       \u001b[34m\u001b[43mttyra\u001b[m\u001b[m\r\n",
      "\u001b[34m\u001b[43mptyq9\u001b[m\u001b[m                       \u001b[34m\u001b[43mttyrb\u001b[m\u001b[m\r\n",
      "\u001b[34m\u001b[43mptyqa\u001b[m\u001b[m                       \u001b[34m\u001b[43mttyrc\u001b[m\u001b[m\r\n",
      "\u001b[34m\u001b[43mptyqb\u001b[m\u001b[m                       \u001b[34m\u001b[43mttyrd\u001b[m\u001b[m\r\n",
      "\u001b[34m\u001b[43mptyqc\u001b[m\u001b[m                       \u001b[34m\u001b[43mttyre\u001b[m\u001b[m\r\n",
      "\u001b[34m\u001b[43mptyqd\u001b[m\u001b[m                       \u001b[34m\u001b[43mttyrf\u001b[m\u001b[m\r\n",
      "\u001b[34m\u001b[43mptyqe\u001b[m\u001b[m                       \u001b[34m\u001b[43mttys0\u001b[m\u001b[m\r\n",
      "\u001b[34m\u001b[43mptyqf\u001b[m\u001b[m                       \u001b[34m\u001b[43mttys000\u001b[m\u001b[m\r\n",
      "\u001b[34m\u001b[43mptyr0\u001b[m\u001b[m                       \u001b[34m\u001b[43mttys001\u001b[m\u001b[m\r\n",
      "\u001b[34m\u001b[43mptyr1\u001b[m\u001b[m                       \u001b[34m\u001b[43mttys1\u001b[m\u001b[m\r\n",
      "\u001b[34m\u001b[43mptyr2\u001b[m\u001b[m                       \u001b[34m\u001b[43mttys2\u001b[m\u001b[m\r\n",
      "\u001b[34m\u001b[43mptyr3\u001b[m\u001b[m                       \u001b[34m\u001b[43mttys3\u001b[m\u001b[m\r\n",
      "\u001b[34m\u001b[43mptyr4\u001b[m\u001b[m                       \u001b[34m\u001b[43mttys4\u001b[m\u001b[m\r\n",
      "\u001b[34m\u001b[43mptyr5\u001b[m\u001b[m                       \u001b[34m\u001b[43mttys5\u001b[m\u001b[m\r\n",
      "\u001b[34m\u001b[43mptyr6\u001b[m\u001b[m                       \u001b[34m\u001b[43mttys6\u001b[m\u001b[m\r\n",
      "\u001b[34m\u001b[43mptyr7\u001b[m\u001b[m                       \u001b[34m\u001b[43mttys7\u001b[m\u001b[m\r\n",
      "\u001b[34m\u001b[43mptyr8\u001b[m\u001b[m                       \u001b[34m\u001b[43mttys8\u001b[m\u001b[m\r\n",
      "\u001b[34m\u001b[43mptyr9\u001b[m\u001b[m                       \u001b[34m\u001b[43mttys9\u001b[m\u001b[m\r\n",
      "\u001b[34m\u001b[43mptyra\u001b[m\u001b[m                       \u001b[34m\u001b[43mttysa\u001b[m\u001b[m\r\n",
      "\u001b[34m\u001b[43mptyrb\u001b[m\u001b[m                       \u001b[34m\u001b[43mttysb\u001b[m\u001b[m\r\n",
      "\u001b[34m\u001b[43mptyrc\u001b[m\u001b[m                       \u001b[34m\u001b[43mttysc\u001b[m\u001b[m\r\n",
      "\u001b[34m\u001b[43mptyrd\u001b[m\u001b[m                       \u001b[34m\u001b[43mttysd\u001b[m\u001b[m\r\n",
      "\u001b[34m\u001b[43mptyre\u001b[m\u001b[m                       \u001b[34m\u001b[43mttyse\u001b[m\u001b[m\r\n",
      "\u001b[34m\u001b[43mptyrf\u001b[m\u001b[m                       \u001b[34m\u001b[43mttysf\u001b[m\u001b[m\r\n",
      "\u001b[34m\u001b[43mptys0\u001b[m\u001b[m                       \u001b[34m\u001b[43mttyt0\u001b[m\u001b[m\r\n",
      "\u001b[34m\u001b[43mptys1\u001b[m\u001b[m                       \u001b[34m\u001b[43mttyt1\u001b[m\u001b[m\r\n",
      "\u001b[34m\u001b[43mptys2\u001b[m\u001b[m                       \u001b[34m\u001b[43mttyt2\u001b[m\u001b[m\r\n",
      "\u001b[34m\u001b[43mptys3\u001b[m\u001b[m                       \u001b[34m\u001b[43mttyt3\u001b[m\u001b[m\r\n",
      "\u001b[34m\u001b[43mptys4\u001b[m\u001b[m                       \u001b[34m\u001b[43mttyt4\u001b[m\u001b[m\r\n",
      "\u001b[34m\u001b[43mptys5\u001b[m\u001b[m                       \u001b[34m\u001b[43mttyt5\u001b[m\u001b[m\r\n",
      "\u001b[34m\u001b[43mptys6\u001b[m\u001b[m                       \u001b[34m\u001b[43mttyt6\u001b[m\u001b[m\r\n",
      "\u001b[34m\u001b[43mptys7\u001b[m\u001b[m                       \u001b[34m\u001b[43mttyt7\u001b[m\u001b[m\r\n",
      "\u001b[34m\u001b[43mptys8\u001b[m\u001b[m                       \u001b[34m\u001b[43mttyt8\u001b[m\u001b[m\r\n",
      "\u001b[34m\u001b[43mptys9\u001b[m\u001b[m                       \u001b[34m\u001b[43mttyt9\u001b[m\u001b[m\r\n",
      "\u001b[34m\u001b[43mptysa\u001b[m\u001b[m                       \u001b[34m\u001b[43mttyta\u001b[m\u001b[m\r\n",
      "\u001b[34m\u001b[43mptysb\u001b[m\u001b[m                       \u001b[34m\u001b[43mttytb\u001b[m\u001b[m\r\n",
      "\u001b[34m\u001b[43mptysc\u001b[m\u001b[m                       \u001b[34m\u001b[43mttytc\u001b[m\u001b[m\r\n",
      "\u001b[34m\u001b[43mptysd\u001b[m\u001b[m                       \u001b[34m\u001b[43mttytd\u001b[m\u001b[m\r\n",
      "\u001b[34m\u001b[43mptyse\u001b[m\u001b[m                       \u001b[34m\u001b[43mttyte\u001b[m\u001b[m\r\n",
      "\u001b[34m\u001b[43mptysf\u001b[m\u001b[m                       \u001b[34m\u001b[43mttytf\u001b[m\u001b[m\r\n",
      "\u001b[34m\u001b[43mptyt0\u001b[m\u001b[m                       \u001b[34m\u001b[43mttyu0\u001b[m\u001b[m\r\n",
      "\u001b[34m\u001b[43mptyt1\u001b[m\u001b[m                       \u001b[34m\u001b[43mttyu1\u001b[m\u001b[m\r\n",
      "\u001b[34m\u001b[43mptyt2\u001b[m\u001b[m                       \u001b[34m\u001b[43mttyu2\u001b[m\u001b[m\r\n",
      "\u001b[34m\u001b[43mptyt3\u001b[m\u001b[m                       \u001b[34m\u001b[43mttyu3\u001b[m\u001b[m\r\n",
      "\u001b[34m\u001b[43mptyt4\u001b[m\u001b[m                       \u001b[34m\u001b[43mttyu4\u001b[m\u001b[m\r\n",
      "\u001b[34m\u001b[43mptyt5\u001b[m\u001b[m                       \u001b[34m\u001b[43mttyu5\u001b[m\u001b[m\r\n",
      "\u001b[34m\u001b[43mptyt6\u001b[m\u001b[m                       \u001b[34m\u001b[43mttyu6\u001b[m\u001b[m\r\n",
      "\u001b[34m\u001b[43mptyt7\u001b[m\u001b[m                       \u001b[34m\u001b[43mttyu7\u001b[m\u001b[m\r\n",
      "\u001b[34m\u001b[43mptyt8\u001b[m\u001b[m                       \u001b[34m\u001b[43mttyu8\u001b[m\u001b[m\r\n",
      "\u001b[34m\u001b[43mptyt9\u001b[m\u001b[m                       \u001b[34m\u001b[43mttyu9\u001b[m\u001b[m\r\n",
      "\u001b[34m\u001b[43mptyta\u001b[m\u001b[m                       \u001b[34m\u001b[43mttyua\u001b[m\u001b[m\r\n",
      "\u001b[34m\u001b[43mptytb\u001b[m\u001b[m                       \u001b[34m\u001b[43mttyub\u001b[m\u001b[m\r\n",
      "\u001b[34m\u001b[43mptytc\u001b[m\u001b[m                       \u001b[34m\u001b[43mttyuc\u001b[m\u001b[m\r\n",
      "\u001b[34m\u001b[43mptytd\u001b[m\u001b[m                       \u001b[34m\u001b[43mttyud\u001b[m\u001b[m\r\n",
      "\u001b[34m\u001b[43mptyte\u001b[m\u001b[m                       \u001b[34m\u001b[43mttyue\u001b[m\u001b[m\r\n",
      "\u001b[34m\u001b[43mptytf\u001b[m\u001b[m                       \u001b[34m\u001b[43mttyuf\u001b[m\u001b[m\r\n",
      "\u001b[34m\u001b[43mptyu0\u001b[m\u001b[m                       \u001b[34m\u001b[43mttyv0\u001b[m\u001b[m\r\n",
      "\u001b[34m\u001b[43mptyu1\u001b[m\u001b[m                       \u001b[34m\u001b[43mttyv1\u001b[m\u001b[m\r\n",
      "\u001b[34m\u001b[43mptyu2\u001b[m\u001b[m                       \u001b[34m\u001b[43mttyv2\u001b[m\u001b[m\r\n",
      "\u001b[34m\u001b[43mptyu3\u001b[m\u001b[m                       \u001b[34m\u001b[43mttyv3\u001b[m\u001b[m\r\n",
      "\u001b[34m\u001b[43mptyu4\u001b[m\u001b[m                       \u001b[34m\u001b[43mttyv4\u001b[m\u001b[m\r\n",
      "\u001b[34m\u001b[43mptyu5\u001b[m\u001b[m                       \u001b[34m\u001b[43mttyv5\u001b[m\u001b[m\r\n",
      "\u001b[34m\u001b[43mptyu6\u001b[m\u001b[m                       \u001b[34m\u001b[43mttyv6\u001b[m\u001b[m\r\n",
      "\u001b[34m\u001b[43mptyu7\u001b[m\u001b[m                       \u001b[34m\u001b[43mttyv7\u001b[m\u001b[m\r\n",
      "\u001b[34m\u001b[43mptyu8\u001b[m\u001b[m                       \u001b[34m\u001b[43mttyv8\u001b[m\u001b[m\r\n",
      "\u001b[34m\u001b[43mptyu9\u001b[m\u001b[m                       \u001b[34m\u001b[43mttyv9\u001b[m\u001b[m\r\n",
      "\u001b[34m\u001b[43mptyua\u001b[m\u001b[m                       \u001b[34m\u001b[43mttyva\u001b[m\u001b[m\r\n",
      "\u001b[34m\u001b[43mptyub\u001b[m\u001b[m                       \u001b[34m\u001b[43mttyvb\u001b[m\u001b[m\r\n",
      "\u001b[34m\u001b[43mptyuc\u001b[m\u001b[m                       \u001b[34m\u001b[43mttyvc\u001b[m\u001b[m\r\n",
      "\u001b[34m\u001b[43mptyud\u001b[m\u001b[m                       \u001b[34m\u001b[43mttyvd\u001b[m\u001b[m\r\n",
      "\u001b[34m\u001b[43mptyue\u001b[m\u001b[m                       \u001b[34m\u001b[43mttyve\u001b[m\u001b[m\r\n",
      "\u001b[34m\u001b[43mptyuf\u001b[m\u001b[m                       \u001b[34m\u001b[43mttyvf\u001b[m\u001b[m\r\n",
      "\u001b[34m\u001b[43mptyv0\u001b[m\u001b[m                       \u001b[34m\u001b[43mttyw0\u001b[m\u001b[m\r\n",
      "\u001b[34m\u001b[43mptyv1\u001b[m\u001b[m                       \u001b[34m\u001b[43mttyw1\u001b[m\u001b[m\r\n",
      "\u001b[34m\u001b[43mptyv2\u001b[m\u001b[m                       \u001b[34m\u001b[43mttyw2\u001b[m\u001b[m\r\n",
      "\u001b[34m\u001b[43mptyv3\u001b[m\u001b[m                       \u001b[34m\u001b[43mttyw3\u001b[m\u001b[m\r\n",
      "\u001b[34m\u001b[43mptyv4\u001b[m\u001b[m                       \u001b[34m\u001b[43mttyw4\u001b[m\u001b[m\r\n",
      "\u001b[34m\u001b[43mptyv5\u001b[m\u001b[m                       \u001b[34m\u001b[43mttyw5\u001b[m\u001b[m\r\n",
      "\u001b[34m\u001b[43mptyv6\u001b[m\u001b[m                       \u001b[34m\u001b[43mttyw6\u001b[m\u001b[m\r\n",
      "\u001b[34m\u001b[43mptyv7\u001b[m\u001b[m                       \u001b[34m\u001b[43mttyw7\u001b[m\u001b[m\r\n",
      "\u001b[34m\u001b[43mptyv8\u001b[m\u001b[m                       \u001b[34m\u001b[43mttyw8\u001b[m\u001b[m\r\n",
      "\u001b[34m\u001b[43mptyv9\u001b[m\u001b[m                       \u001b[34m\u001b[43mttyw9\u001b[m\u001b[m\r\n",
      "\u001b[34m\u001b[43mptyva\u001b[m\u001b[m                       \u001b[34m\u001b[43mttywa\u001b[m\u001b[m\r\n",
      "\u001b[34m\u001b[43mptyvb\u001b[m\u001b[m                       \u001b[34m\u001b[43mttywb\u001b[m\u001b[m\r\n",
      "\u001b[34m\u001b[43mptyvc\u001b[m\u001b[m                       \u001b[34m\u001b[43mttywc\u001b[m\u001b[m\r\n",
      "\u001b[34m\u001b[43mptyvd\u001b[m\u001b[m                       \u001b[34m\u001b[43mttywd\u001b[m\u001b[m\r\n",
      "\u001b[34m\u001b[43mptyve\u001b[m\u001b[m                       \u001b[34m\u001b[43mttywe\u001b[m\u001b[m\r\n",
      "\u001b[34m\u001b[43mptyvf\u001b[m\u001b[m                       \u001b[34m\u001b[43mttywf\u001b[m\u001b[m\r\n",
      "\u001b[34m\u001b[43mptyw0\u001b[m\u001b[m                       \u001b[34m\u001b[43muart.wlan-debug\u001b[m\u001b[m\r\n",
      "\u001b[34m\u001b[43mptyw1\u001b[m\u001b[m                       \u001b[34m\u001b[43murandom\u001b[m\u001b[m\r\n",
      "\u001b[34m\u001b[43mptyw2\u001b[m\u001b[m                       \u001b[34m\u001b[43mzero\u001b[m\u001b[m\r\n",
      "\u001b[34m\u001b[43mptyw3\u001b[m\u001b[m\r\n"
     ]
    }
   ],
   "source": [
    "!ls /dev"
   ]
  },
  {
   "cell_type": "code",
   "execution_count": null,
   "id": "19da0862",
   "metadata": {},
   "outputs": [],
   "source": []
  }
 ],
 "metadata": {
  "kernelspec": {
   "display_name": "Python 3 (ipykernel)",
   "language": "python",
   "name": "python3"
  },
  "language_info": {
   "codemirror_mode": {
    "name": "ipython",
    "version": 3
   },
   "file_extension": ".py",
   "mimetype": "text/x-python",
   "name": "python",
   "nbconvert_exporter": "python",
   "pygments_lexer": "ipython3",
   "version": "3.9.7"
  }
 },
 "nbformat": 4,
 "nbformat_minor": 5
}
