{
 "cells": [
  {
   "cell_type": "markdown",
   "id": "7cccae8d",
   "metadata": {},
   "source": [
    "# Wildcard 사용하기\n",
    "\n",
    "bash shell에서 와일드 카드 문자를 사용하기.  \n",
    "와일드 카드란 임의의 문자를 이용하여 어떤 특성을 대체할 수 있도록 범위 지정의 속성을 갖는 문자를 말한다.  \n",
    "리눅스 명령어 상에서 파일 이름을 아규먼트로 사용하는 경우 와일드 카드 를 적용할 수 있다.\n",
    "\n",
    "**와일드카드 문자의 종류**\n",
    "- ? : 어떤 하나의 글자가 일치하는 경우\n",
    "- \\* : 어떤 문자건 일치하는 경우\n",
    "- [..] : 문자 클래스\n",
    "\n",
    "외 {} file name extension 추가\n",
    "- {} : 인수만 반복되는 경우 대상 인수들을 하나의 브레이스 묶어 복수개의 명령어인것 처럼 동작한다."
   ]
  },
  {
   "cell_type": "code",
   "execution_count": 3,
   "id": "d6a8e669",
   "metadata": {},
   "outputs": [
    {
     "name": "stdout",
     "output_type": "stream",
     "text": [
      "\u001b[34mAudio Music Apps\u001b[m\u001b[m \u001b[34mGarageBand\u001b[m\u001b[m       \u001b[34mMusic\u001b[m\u001b[m\r\n"
     ]
    }
   ],
   "source": [
    "# ? 사용 예시 : 문자의 종류와 관계 없이 5글자를 가지는 파일 또는 디렉토리를 출력한다.\n",
    "!ls ~/?????"
   ]
  },
  {
   "cell_type": "code",
   "execution_count": 8,
   "id": "67bf306e",
   "metadata": {},
   "outputs": [
    {
     "name": "stdout",
     "output_type": "stream",
     "text": [
      "\u001b[34m/Users/daehwajeong/Movies\u001b[m\u001b[m\r\n"
     ]
    }
   ],
   "source": [
    "# 문자열과의 조합 예시 :-d 디렉토리 중에서 M으로 시작하는 6글자 디렉토리를 출력한다.\n",
    "!ls -d ~/M?????"
   ]
  },
  {
   "cell_type": "code",
   "execution_count": 9,
   "id": "cac636d7",
   "metadata": {},
   "outputs": [
    {
     "name": "stdout",
     "output_type": "stream",
     "text": [
      "\u001b[34m/Users/daehwajeong/Movies\u001b[m\u001b[m \u001b[34m/Users/daehwajeong/Music\u001b[m\u001b[m\r\n"
     ]
    }
   ],
   "source": [
    "# 문자열의 길이는 무관하게 M으로 시작하는 디렉토리를 출력한다.\n",
    "!ls -d ~/M*"
   ]
  },
  {
   "cell_type": "code",
   "execution_count": 12,
   "id": "8919a8e8",
   "metadata": {},
   "outputs": [
    {
     "name": "stdout",
     "output_type": "stream",
     "text": [
      "\u001b[34m/Users/daehwajeong/Movies\u001b[m\u001b[m  \u001b[34m/Users/daehwajeong/eclipse\u001b[m\u001b[m\r\n",
      "\u001b[34m/Users/daehwajeong/Music\u001b[m\u001b[m\r\n"
     ]
    }
   ],
   "source": [
    "# 홈 디렉토리에서 M 또는 e 로 시작하는 * 조건의 디렉토리를 출력한다.\n",
    "!ls -fd ~/[Me]*"
   ]
  },
  {
   "cell_type": "code",
   "execution_count": 13,
   "id": "9f98b330",
   "metadata": {},
   "outputs": [
    {
     "name": "stdout",
     "output_type": "stream",
     "text": [
      "\u001b[34m/Users/daehwajeong/Applications\u001b[m\u001b[m \u001b[34m/Users/daehwajeong/Documents\u001b[m\u001b[m\r\n",
      "\u001b[34m/Users/daehwajeong/Desktop\u001b[m\u001b[m      \u001b[34m/Users/daehwajeong/Downloads\u001b[m\u001b[m\r\n"
     ]
    }
   ],
   "source": [
    "# A, B, C, D 중 하나로 시작하는 디렉토리를 출력한다.\n",
    "!ls -fd ~/[A-B-C-D]*"
   ]
  },
  {
   "cell_type": "code",
   "execution_count": 24,
   "id": "691a663c",
   "metadata": {},
   "outputs": [
    {
     "name": "stdout",
     "output_type": "stream",
     "text": [
      "zsh:1: unknown file attribute: 1\n",
      "01.리눅스디렉토리살펴보기.ipynb\n",
      "02.리눅스기본명령어살펴보기.ipynb\n",
      "03.VI에디터란.ipynb\n",
      "04.VI에디터-입력&EX&명령모드.ipynb\n",
      "05.Echo와Cat명령어.ipynb\n",
      "06.Wildcard사용하기.ipynb\n",
      "hosts\n",
      "\u001b[34msample\u001b[m\u001b[m\n",
      "vim_cheat_sheet.jpg\n",
      "vim_cheat_sheet.pdf\n"
     ]
    }
   ],
   "source": [
    "# dir1, dir2, dir3 를 한번에 생성하는 방법 (space 가 들어가면 안됨.)\n",
    "!mkdir dir{1,2,3}\n",
    "# !mkdir dir{1..3} 위와 동일\n",
    "!ls \n",
    "# !rmdir dir{1..3}"
   ]
  },
  {
   "cell_type": "code",
   "execution_count": 29,
   "id": "a6bec967",
   "metadata": {},
   "outputs": [
    {
     "name": "stdout",
     "output_type": "stream",
     "text": [
      "ls: ./sample/x: No such file or directory\n",
      "ls: ./sample/x: No such file or directory\n"
     ]
    }
   ],
   "source": [
    "# 파일 이름 익스텐션 활용 예제\n",
    "!mkdir sample/test{a,b,c}\n",
    "!ls ./sample/x\n",
    "!rmdir sample/test*"
   ]
  },
  {
   "cell_type": "code",
   "execution_count": 30,
   "id": "e1e8b2e0",
   "metadata": {},
   "outputs": [
    {
     "name": "stdout",
     "output_type": "stream",
     "text": [
      "cat_sample.txt hostaname      sample.txt\r\n"
     ]
    }
   ],
   "source": [
    "!ls sample/"
   ]
  },
  {
   "cell_type": "code",
   "execution_count": null,
   "id": "a9c1b0b9",
   "metadata": {},
   "outputs": [],
   "source": []
  }
 ],
 "metadata": {
  "kernelspec": {
   "display_name": "Python 3 (ipykernel)",
   "language": "python",
   "name": "python3"
  },
  "language_info": {
   "codemirror_mode": {
    "name": "ipython",
    "version": 3
   },
   "file_extension": ".py",
   "mimetype": "text/x-python",
   "name": "python",
   "nbconvert_exporter": "python",
   "pygments_lexer": "ipython3",
   "version": "3.9.7"
  }
 },
 "nbformat": 4,
 "nbformat_minor": 5
}
