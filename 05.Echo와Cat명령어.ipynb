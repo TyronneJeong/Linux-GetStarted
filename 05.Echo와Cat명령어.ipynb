{
 "cells": [
  {
   "cell_type": "markdown",
   "id": "4d74efea",
   "metadata": {},
   "source": [
    "# Echo 와 Cat 명령어\n",
    "\n",
    "간단한 파일 작성을 위해 상기 명령어를 활용해 파일을 작성 할 수 있다.  \n",
    "단 리다이렉션 기호 (**$echo \"contents\" > file_name** ) 형태로 저장 파일 명을 선언해 주어야 한다."
   ]
  },
  {
   "cell_type": "code",
   "execution_count": 1,
   "id": "f4d37a3e",
   "metadata": {},
   "outputs": [
    {
     "name": "stdout",
     "output_type": "stream",
     "text": [
      "hostaname  sample.txt\r\n"
     ]
    }
   ],
   "source": [
    "# echo 작성 예\n",
    "!echo \"sample text\" > ./sample/sample.txt\n",
    "!ls ./sample/"
   ]
  },
  {
   "cell_type": "code",
   "execution_count": 3,
   "id": "6d4bfd89",
   "metadata": {},
   "outputs": [
    {
     "name": "stdout",
     "output_type": "stream",
     "text": [
      "cat: sample: Is a directory\r\n",
      "cat: test: No such file or directory\r\n"
     ]
    }
   ],
   "source": [
    "# cat 작성 예\n",
    "!cat > ./sample/cat_sample.txt \\\n",
    "sample test\n",
    "# <ctrl> + <d> 입력시 종료"
   ]
  }
 ],
 "metadata": {
  "kernelspec": {
   "display_name": "Python 3 (ipykernel)",
   "language": "python",
   "name": "python3"
  },
  "language_info": {
   "codemirror_mode": {
    "name": "ipython",
    "version": 3
   },
   "file_extension": ".py",
   "mimetype": "text/x-python",
   "name": "python",
   "nbconvert_exporter": "python",
   "pygments_lexer": "ipython3",
   "version": "3.9.7"
  }
 },
 "nbformat": 4,
 "nbformat_minor": 5
}
