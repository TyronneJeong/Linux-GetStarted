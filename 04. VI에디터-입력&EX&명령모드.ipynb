{
 "cells": [
  {
   "cell_type": "markdown",
   "id": "1f13a62f",
   "metadata": {},
   "source": [
    "# VI 입력모드\n",
    "\n",
    "문서 파일을 직접 수정 하기 위해서는 command mode에서 input mode로의 전환이 필요하다.\n",
    "\n",
    "\n",
    "**입력모드 전환** \n",
    "- a : 현재 커서 오른쪽에 문자를 삽입\n",
    "- i : 현재 커서 왼쪽에 문자를 삽입\n",
    "- o : 현재 커서 아래에 문자를 삽입\n",
    "\n",
    "\n",
    "\n",
    "- A : 현재 커서 오른쪽 끝에 문자를 삽입\n",
    "- I : 현재 커서 왼쪽 끝에 문자를 삽입\n",
    "- O : 현재 커서 위에 문자를 삽입\n",
    "\n",
    "\n",
    "- u : 작업 취소 (undo)\n",
    "- shift + u : 해당 라인에서 작업한 내용 취소\n",
    "- ctrl + u : 다시하기 (redo)\n",
    "- p : 붙이기"
   ]
  },
  {
   "cell_type": "code",
   "execution_count": 1,
   "id": "a8ea9271",
   "metadata": {},
   "outputs": [
    {
     "name": "stdout",
     "output_type": "stream",
     "text": [
      "01.리눅스디렉토리살펴보기.ipynb\r\n",
      "02.리눅스기본명령어살펴보기.ipynb\r\n",
      "03.VI에디터란.ipynb\r\n",
      "04VI에디터-입력모드.ipynb\r\n",
      "hosts\r\n",
      "\u001b[34msample\u001b[m\u001b[m\r\n",
      "vim_cheat_sheet.jpg\r\n",
      "vim_cheat_sheet.pdf\r\n"
     ]
    }
   ],
   "source": [
    "# 파일 확인\n",
    "!ls"
   ]
  },
  {
   "cell_type": "code",
   "execution_count": 2,
   "id": "1540105f",
   "metadata": {},
   "outputs": [
    {
     "name": "stdout",
     "output_type": "stream",
     "text": [
      "\u001b7\u001b[?47h\u001b[>4;2m\u001b[?1h\u001b=\u001b[?2004h\u001b[?1004h\u001b[1;24r\u001b[?12h\u001b[?12l\u001b[22;2t\u001b[22;1t\u001b[29m\u001b[m\u001b[H\u001b[2J\u001b[?25l\u001b[24;1H\"hosts\" 13L, 365B\u001b[2;1H▽\u001b[6n\u001b[2;1H  \u001b[3;1H\u001bPzz\u001b\\\u001b[0%m\u001b[6n\u001b[3;1H           \u001b[1;1H\u001b[>c\u001b]10;?\u0007\u001b]11;?\u0007\u001b[1;1H##\n",
      "# Host Database\u001b[2;16H\u001b[K\u001b[3;1H#\u001b[3;2H\u001b[K\u001b[4;1H# localhost is used to configure the loopback interface\n",
      "# when the system is booting.  Do not change this entry.\n",
      "##\n",
      "127.0.0.1\u001b[7Clocalhost\n",
      "255.255.255.255 broadcasthost\n",
      "::1\u001b[13Clocalhost\n",
      "# Added by Docker Desktop\n",
      "# To allow the same kube context to work on the host and the container:\n",
      "127.0.0.1 kubernetes.docker.internal\n",
      "# End of section\n",
      "\u001b[1m\u001b[34m~                                                                               \u001b[15;1H~                                                                               \u001b[16;1H~                                                                               \u001b[17;1H~                                                                               \u001b[18;1H~                                                                               \u001b[19;1H~                                                                               \u001b[20;1H~                                                                               \u001b[21;1H~                                                                               \u001b[22;1H~                                                                               \u001b[23;1H~                                                                               \u001b[1;1H\u001b[?25h\u001b[?25l\u001b[m\u001b[24;1HType  :qa  and press <Enter> to exit Vim\u0007\u001b[1;1H\u001b[?25h"
     ]
    }
   ],
   "source": [
    "# vi를 이용한 파일 편집\n",
    "!vi hosts"
   ]
  },
  {
   "cell_type": "markdown",
   "id": "c326caf9",
   "metadata": {},
   "source": [
    "# VI EX모드\n",
    "\n",
    ": 으로 시작하는 특수 명령어들\n",
    "\n",
    "**[파일관리]**\n",
    "- :e! : 현재까지의 모든 작업들을 취소하고 최초 상태로 돌아간다.\n",
    "- :w : 저장하기\n",
    "- :w \\<filename\\> : 새 파일로 저장하기. <span style=\"font-weight:bold;color:red\">(새 이름 저장 이후에도 편집중인 파일은 기존 파일이 된다.)</span>\n",
    "- :q : 종료하기\n",
    "- :q! : 현재 까지의 작업 저장하지 않고 강제 종료.\n",
    "\n",
    "\n",
    "**[편집기능]**\n",
    "- :r  \\<file_name\\> : 파일 내용을 현재 커서 위치에 붙여넣기 한다.\n"
   ]
  },
  {
   "cell_type": "code",
   "execution_count": null,
   "id": "75a27d7b",
   "metadata": {},
   "outputs": [],
   "source": []
  },
  {
   "cell_type": "markdown",
   "id": "ca1016fd",
   "metadata": {},
   "source": [
    "# VI 명령모드\n",
    "\n",
    "찾아 바꾸기 및 찾기 등의 명령어\n",
    "\n",
    "**찾기**\n",
    "- /\\<string\\> : 입력 문자열 검색\n",
    "  - n : 다음 찾기\n",
    "\n",
    "**찾아 바꾸기**\n",
    "- :%s/\\<find_string\\>/\\<replace_string\\>/g : 전체 페이지에 걸쳐 문자를 변경한다.\n",
    "\n",
    "**검색내용을에 하이라이트 적용**\n",
    "- :set hlsearch : 검색 내용에 매칭 되는 단어들을 부각 시킨다.\n",
    "\n",
    "**라인 표시하기**\n",
    "- :set number : 에디터 창의 라인 넘버가 표시된다.\n",
    "- :set nonumber : 에디터 창의 라인 넘버가 사라진다.\n",
    "\n",
    "**오토 인덴트 해제**\n",
    "- :set paste : 붙여넣기 텍스트의 인덴테이션을 해제한다.\n",
    "\n",
    "**탭 간격 조정 하기**\n",
    "- :set ts=2 : 탭 간격을 2칸트로 조정 한다."
   ]
  },
  {
   "cell_type": "code",
   "execution_count": 16,
   "id": "9e31bacf",
   "metadata": {},
   "outputs": [
    {
     "name": "stdout",
     "output_type": "stream",
     "text": [
      "set number\r\n",
      "set paste\r\n",
      "set hlsearch\r\n",
      "set ruler\r\n",
      "\r\n",
      "set statusline=\\ %<%l:%v\\ [%P]%=%a\\ %h%m%r\\ %F\\\r\n",
      ":hi CursorLine   cterm=NONE ctermbg=yellow ctermfg=white guibg=yellow guifg=white\r\n",
      ":hi CursorColumn cterm=NONE ctermbg=yellow ctermfg=white guibg=yellow guifg=white\r\n"
     ]
    }
   ],
   "source": [
    "# vim 구성파일 위치 - 상기 옵션 정보를 고정 옵션으로 적용하고자 할 경우 vimrc 파일을 신규 생성하여 상기 내용을 작성 한다.\n",
    "!cat ~/.vimrc"
   ]
  },
  {
   "cell_type": "code",
   "execution_count": null,
   "id": "e78aa3d2",
   "metadata": {},
   "outputs": [],
   "source": []
  }
 ],
 "metadata": {
  "kernelspec": {
   "display_name": "Python 3 (ipykernel)",
   "language": "python",
   "name": "python3"
  },
  "language_info": {
   "codemirror_mode": {
    "name": "ipython",
    "version": 3
   },
   "file_extension": ".py",
   "mimetype": "text/x-python",
   "name": "python",
   "nbconvert_exporter": "python",
   "pygments_lexer": "ipython3",
   "version": "3.9.7"
  }
 },
 "nbformat": 4,
 "nbformat_minor": 5
}
