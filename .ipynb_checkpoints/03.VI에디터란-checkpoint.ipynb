{
 "cells": [
  {
   "cell_type": "markdown",
   "id": "b6a93b30",
   "metadata": {},
   "source": [
    "# VI에디터란?\n",
    "\n",
    "http://www.vim.org\n",
    "\n",
    "\n",
    "### 전통적인 리눅스의 편집기\n",
    "\n",
    "1. vi, vim\n",
    "2. emacs\n",
    "3. nano\n",
    "\n",
    "- 1976년 빌 조이가 초기 BSD 릴리즈에 포함시켜 배포한 에디터로 현재까지도 널리 사용되는 에디터로 성장하였다.\n",
    "\n",
    "\n",
    "### vi 의 3가지 모드\n",
    "1. 명령모드 (command mode) : 문서 편집기에서 명령을 수신 받기 위한 모드\n",
    "2. 입력모드 (input mode) : a, i, o, A, I, O 등의 커맨드로 문서 편집이 가능 한 모드\n",
    "3. ex모드 : :, |, ? 로 시작하는 특수 명령어 셋"
   ]
  },
  {
   "cell_type": "markdown",
   "id": "49e10b8e",
   "metadata": {},
   "source": [
    "<img src='vim_cheat_sheet.jpg' style=\"width:90%;height:90%;\">"
   ]
  },
  {
   "cell_type": "code",
   "execution_count": null,
   "id": "4329af5e",
   "metadata": {},
   "outputs": [],
   "source": []
  }
 ],
 "metadata": {
  "kernelspec": {
   "display_name": "Python 3 (ipykernel)",
   "language": "python",
   "name": "python3"
  },
  "language_info": {
   "codemirror_mode": {
    "name": "ipython",
    "version": 3
   },
   "file_extension": ".py",
   "mimetype": "text/x-python",
   "name": "python",
   "nbconvert_exporter": "python",
   "pygments_lexer": "ipython3",
   "version": "3.9.7"
  }
 },
 "nbformat": 4,
 "nbformat_minor": 5
}
