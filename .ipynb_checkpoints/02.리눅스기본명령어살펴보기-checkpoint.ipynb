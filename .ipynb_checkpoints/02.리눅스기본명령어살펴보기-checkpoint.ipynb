{
 "cells": [
  {
   "cell_type": "markdown",
   "id": "28677b50",
   "metadata": {},
   "source": [
    "# 리눅스 기본 명령어 살펴보기\n",
    "\n",
    "[학습내용]\n",
    "1. 명령어 도움말 : man\n",
    "2. 파일 목록보기 : ls\n",
    "3. 디렉토리 관리 : mkdir, rmdir, cd\n",
    "4. 파일 복사하기 : cp\n",
    "5. 파일 이동하기 : mv\n",
    "6. 파일 삭제하기 : rm"
   ]
  },
  {
   "cell_type": "markdown",
   "id": "014a4009",
   "metadata": {},
   "source": []
  },
  {
   "cell_type": "markdown",
   "id": "959cc2d7",
   "metadata": {},
   "source": []
  },
  {
   "cell_type": "markdown",
   "id": "fbe71174",
   "metadata": {},
   "source": []
  },
  {
   "cell_type": "markdown",
   "id": "225dcdd6",
   "metadata": {},
   "source": []
  },
  {
   "cell_type": "markdown",
   "id": "5f83f632",
   "metadata": {},
   "source": []
  },
  {
   "cell_type": "markdown",
   "id": "19baf543",
   "metadata": {},
   "source": []
  }
 ],
 "metadata": {
  "kernelspec": {
   "display_name": "Python 3 (ipykernel)",
   "language": "python",
   "name": "python3"
  },
  "language_info": {
   "codemirror_mode": {
    "name": "ipython",
    "version": 3
   },
   "file_extension": ".py",
   "mimetype": "text/x-python",
   "name": "python",
   "nbconvert_exporter": "python",
   "pygments_lexer": "ipython3",
   "version": "3.9.7"
  }
 },
 "nbformat": 4,
 "nbformat_minor": 5
}
