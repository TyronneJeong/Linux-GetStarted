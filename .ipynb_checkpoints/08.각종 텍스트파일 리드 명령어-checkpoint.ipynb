{
 "cells": [
  {
   "cell_type": "markdown",
   "id": "ff133f50",
   "metadata": {},
   "source": [
    "# 각종 텍스트파일 Read 명령어\n",
    "\n",
    "다양한 방식의 텍스트 출력 명령어들\n",
    "\n",
    "- cat\n",
    "- more\n",
    "- less\n",
    "- head\n",
    "- tail "
   ]
  },
  {
   "cell_type": "code",
   "execution_count": 9,
   "id": "6133db47",
   "metadata": {},
   "outputs": [
    {
     "name": "stdout",
     "output_type": "stream",
     "text": [
      "cat_sample.txt hostaname      sample.txt\r\n"
     ]
    }
   ],
   "source": [
    "!ls ./sample"
   ]
  },
  {
   "cell_type": "markdown",
   "id": "fc29e966",
   "metadata": {},
   "source": [
    "# cat\n",
    "\n",
    "concat 의 약어\n",
    "\n",
    "**기본형식**\n",
    "```\n",
    "cat <options> <filename>\n",
    "```\n",
    "\n",
    "**옵션**\n",
    "- -n : line번호를 함께 출력"
   ]
  },
  {
   "cell_type": "code",
   "execution_count": 12,
   "id": "407ee95a",
   "metadata": {},
   "outputs": [
    {
     "name": "stdout",
     "output_type": "stream",
     "text": [
      "     1\t##\r\n",
      "     2\t# Host Database\r\n",
      "     3\t#\r\n",
      "     4\t# localhost is used to configure the loopback interface\r\n",
      "     5\t# when the system is booting.  Do not change this entry.\r\n",
      "     6\t##\r\n",
      "     7\t127.0.0.1\tlocalhost\r\n",
      "     8\t255.255.255.255\tbroadcasthost\r\n",
      "     9\t::1             localhost\r\n",
      "    10\t# Added by Docker Desktop\r\n",
      "    11\t# To allow the same kube context to work on the host and the container:\r\n",
      "    12\t127.0.0.1 kubernetes.docker.internal\r\n",
      "    13\t# End of section\r\n"
     ]
    }
   ],
   "source": [
    "# cat\n",
    "!cat -n ./hosts"
   ]
  },
  {
   "cell_type": "code",
   "execution_count": 14,
   "id": "1e03413f",
   "metadata": {},
   "outputs": [
    {
     "name": "stdout",
     "output_type": "stream",
     "text": [
      "     1\t##\r\n",
      "     2\t# Host Database\r\n",
      "     3\t#\r\n",
      "     4\t# localhost is used to configure the loopback interface\r\n",
      "     5\t# when the system is booting.  Do not change this entry.\r\n",
      "     6\t##\r\n",
      "     7\t127.0.0.1\tlocalhost\r\n",
      "     8\t255.255.255.255\tbroadcasthost\r\n",
      "     9\t::1             localhost\r\n",
      "    10\t# Added by Docker Desktop\r\n",
      "    11\t# To allow the same kube context to work on the host and the container:\r\n",
      "    12\t127.0.0.1 kubernetes.docker.internal\r\n",
      "    13\t# End of section\r\n",
      "     1\tsample text\r\n"
     ]
    }
   ],
   "source": [
    "# 2개의 파일을 함께 보기 기능\n",
    "!cat -n ./hosts ./sample/sample.txt"
   ]
  },
  {
   "cell_type": "markdown",
   "id": "941b5ccb",
   "metadata": {},
   "source": [
    "# more\n",
    "\n",
    "화면에 출력 내용을 스크린 단위로 분리해서 보여주는 기능\n",
    "\n",
    "**기본형식**\n",
    "```\n",
    "more <options> <filename>\n",
    "```\n",
    "\n",
    "**옵션**\n",
    "- +\\<number\\> : 입력한 라인이 포함된 페이지를 출력\n",
    "- +/\\<string\\> : 입력한 문자열이 포함된 페이지를 출력\n",
    "\n",
    "**화면이동**\n",
    "- enter : next line\n",
    "- space : next page\n",
    "- b : prev page\n",
    "- q : quit\n"
   ]
  },
  {
   "cell_type": "code",
   "execution_count": 15,
   "id": "6e5337c5",
   "metadata": {},
   "outputs": [
    {
     "name": "stdout",
     "output_type": "stream",
     "text": [
      "##?1h\u001b=\n",
      "# Host Database\n",
      "#\n",
      "# localhost is used to configure the loopback interface\n",
      "# when the system is booting.  Do not change this entry.\n",
      "##\n",
      "127.0.0.1       localhost\n",
      "255.255.255.255 broadcasthost\n",
      "::1             localhost\n",
      "# Added by Docker Desktop\n",
      "# To allow the same kube context to work on the host and the container:\n",
      "127.0.0.1 kubernetes.docker.internal\n",
      "# End of section\n",
      "\u001b[K\u001b[?1l\u001b>s (END)\u001b[m\u001b[K\u0007"
     ]
    }
   ],
   "source": [
    "# more \n",
    "!more ./hosts"
   ]
  },
  {
   "cell_type": "code",
   "execution_count": 24,
   "id": "b857bf4e",
   "metadata": {},
   "outputs": [
    {
     "name": "stdout",
     "output_type": "stream",
     "text": [
      "\u001b[KLS(1)                        General Commands Manual                       LS(1)\n",
      "\n",
      "\u001b[1mNAME\u001b[m\n",
      "     \u001b[1mls\u001b[m – list directory contents\n",
      "\n",
      "\u001b[1mSYNOPSIS\u001b[m\n",
      "     \u001b[1mls\u001b[m [\u001b[1m-@ABCFGHILOPRSTUWabcdefghiklmnopqrstuvwxy1%,\u001b[m] [\u001b[1m--color\u001b[m=\u001b[4mwhen\u001b[m]\n",
      "        [\u001b[1m-D\u001b[m \u001b[4mformat\u001b[m] [\u001b[4mfile\u001b[m \u001b[4m...\u001b[m]\n",
      "\n",
      "\u001b[1mDESCRIPTION\u001b[m\n",
      "     For each operand that names a \u001b[4mfile\u001b[m of a type other than directory, \u001b[1mls\u001b[m\n",
      "     displays its name as well as any requested, associated information.  For\n",
      "     each operand that names a \u001b[4mfile\u001b[m of type directory, \u001b[1mls\u001b[m displays the names of\n",
      "     files contained within that directory, as well as any requested, associated\n",
      "     information.\n",
      "\n",
      "     If no operands are given, the contents of the current directory are\n",
      "     displayed.  If more than one operand is given, non-directory operands are\n",
      "     displayed first; directory and non-directory operands are sorted separately\n",
      "     and in lexicographical order.\n",
      "\n",
      "     The following options are available:\n",
      "\n",
      "\u001b[K\u001b[?1l\u001b>"
     ]
    }
   ],
   "source": [
    "# 메뉴얼을 화면 단위로 잘라서 보기 가능\n",
    "!man ls | more +1"
   ]
  },
  {
   "cell_type": "markdown",
   "id": "61611005",
   "metadata": {},
   "source": [
    "# less\n",
    "\n",
    "한 페이지 씩 보여주는 명령어. 기본 적으로 more 명령어와 유사하나 압출된 파일을 열어볼 수 있는 기능적 확장성이 더 추가된 명령어 이다.\n",
    "\n",
    "**기본형식**\n",
    "```\n",
    "less <options> <filename>\n",
    "```\n",
    "**옵션**\n",
    "- -N : line 번호가 함께 출력됨.\n"
   ]
  },
  {
   "cell_type": "code",
   "execution_count": 27,
   "id": "2ea8d320",
   "metadata": {},
   "outputs": [
    {
     "name": "stdout",
     "output_type": "stream",
     "text": [
      "\u001b[1m      1 \u001b[m##\n",
      "\u001b[1m      2 \u001b[m# Host Database\n",
      "\u001b[1m      3 \u001b[m#\n",
      "\u001b[1m      4 \u001b[m# localhost is used to configure the loopback interface\n",
      "\u001b[1m      5 \u001b[m# when the system is booting.  Do not change this entry.\n",
      "\u001b[1m      6 \u001b[m##\n",
      "\u001b[1m      7 \u001b[m127.0.0.1       localhost\n",
      "\u001b[1m      8 \u001b[m255.255.255.255 broadcasthost\n",
      "\u001b[1m      9 \u001b[m::1             localhost\n",
      "\u001b[1m     10 \u001b[m# Added by Docker Desktop\n",
      "\u001b[1m     11 \u001b[m# To allow the same kube context to work on the host and the container:\n",
      "\u001b[1m     12 \u001b[m127.0.0.1 kubernetes.docker.internal\n",
      "\u001b[1m     13 \u001b[m# End of section\n",
      "\u001b[K\u001b[7m(END)\u001b[m\u001b[K[m\u001b[K\u0007"
     ]
    }
   ],
   "source": [
    "# less 사용 예\n",
    "!less -N ./hosts"
   ]
  },
  {
   "cell_type": "code",
   "execution_count": 28,
   "id": "5abcb848",
   "metadata": {},
   "outputs": [
    {
     "name": "stdout",
     "output_type": "stream",
     "text": [
      "\u001b[1m      1 \u001b[mLS(1)                        General Commands Manual                    \u001b[1m      1 \u001b[m   LS(1)\n",
      "\u001b[1m      2 \u001b[m\n",
      "\u001b[1m      3 NAME\u001b[m\n",
      "\u001b[1m      4 \u001b[m     \u001b[1mls\u001b[m – list directory contents\n",
      "\u001b[1m      5 \u001b[m\n",
      "\u001b[1m      6 SYNOPSIS\u001b[m\n",
      "\u001b[1m      7 \u001b[m     \u001b[1mls\u001b[m [\u001b[1m-@ABCFGHILOPRSTUWabcdefghiklmnopqrstuvwxy1%,\u001b[m] [\u001b[1m--color\u001b[m=\u001b[4mwhen\u001b[m]\n",
      "\u001b[1m      8 \u001b[m        [\u001b[1m-D\u001b[m \u001b[4mformat\u001b[m] [\u001b[4mfile\u001b[m \u001b[4m...\u001b[m]\n",
      "\u001b[1m      9 \u001b[m\n",
      "\u001b[1m     10 DESCRIPTION\u001b[m\n",
      "\u001b[1m     11 \u001b[m     For each operand that names a \u001b[4mfile\u001b[m of a type other than directory, \u001b[1m     11 ls\u001b[m\n",
      "\u001b[1m     12 \u001b[m     displays its name as well as any requested, associated information.\u001b[1m     12 \u001b[m  For\n",
      "\u001b[1m     13 \u001b[m     each operand that names a \u001b[4mfile\u001b[m of type directory, \u001b[1mls\u001b[m displays the n\u001b[1m     13 \u001b[mames of\n",
      "\u001b[1m     14 \u001b[m     files contained within that directory, as well as any requested, as\u001b[1m     14 \u001b[msociated\n",
      "\u001b[1m     15 \u001b[m     information.\n",
      "\u001b[1m     16 \u001b[m\n",
      "\u001b[1m     17 \u001b[m     If no operands are given, the contents of the current directory are\n",
      "\u001b[K\u001b[1m     18 \u001b[mds arelayed.  If more than one operand is given, non-directory operan:\u001b[K\u0007\n",
      ":\u001b[K"
     ]
    }
   ],
   "source": [
    "# 메뉴얼을 화면 단위로 잘라서 보기 가능\n",
    "!man ls | less -N"
   ]
  },
  {
   "cell_type": "markdown",
   "id": "cd3de7f3",
   "metadata": {},
   "source": [
    "# head\n",
    "\n",
    "문서 파일의 최상단 10줄의 내용을 출력\n",
    "\n",
    "**기본형식**\n",
    "```\n",
    "head <options> <filename>\n",
    "```\n",
    "\n",
    "**옵션**\n",
    "- -n : 지정 한 수의 라인을 출력"
   ]
  },
  {
   "cell_type": "code",
   "execution_count": 32,
   "id": "3509eca4",
   "metadata": {},
   "outputs": [
    {
     "name": "stdout",
     "output_type": "stream",
     "text": [
      "##\r\n",
      "# Host Database\r\n",
      "#\r\n"
     ]
    }
   ],
   "source": [
    "# head 예시 : hosts파일의 3번 번호까지를 출력\n",
    "!head -n 3  ./hosts"
   ]
  },
  {
   "cell_type": "code",
   "execution_count": 33,
   "id": "fa2169f5",
   "metadata": {},
   "outputs": [
    {
     "name": "stdout",
     "output_type": "stream",
     "text": [
      "##\r\n",
      "# Host Database\r\n",
      "#\r\n"
     ]
    }
   ],
   "source": [
    "!head -3  ./hosts"
   ]
  },
  {
   "cell_type": "markdown",
   "id": "46a4de46",
   "metadata": {},
   "source": [
    "# tail\n",
    "문서 파일의 최하단 10줄의 내용을 출력\n",
    "\n",
    "**기본형식**\n",
    "```\n",
    "tail <options> <filename>\n",
    "```\n",
    "\n",
    "**옵션**\n",
    "- -n : 지정한 수의 라인을 출력\n",
    "- -f : 업데이트 되는 내용을 지속적으로 갱신하면서 출력\n"
   ]
  },
  {
   "cell_type": "code",
   "execution_count": 36,
   "id": "5d35456e",
   "metadata": {},
   "outputs": [
    {
     "name": "stdout",
     "output_type": "stream",
     "text": [
      "# To allow the same kube context to work on the host and the container:\r\n",
      "127.0.0.1 kubernetes.docker.internal\r\n",
      "# End of section\r\n"
     ]
    }
   ],
   "source": [
    "# tail : 마지막 3줄 출력\n",
    "!tail -n 3 ./hosts "
   ]
  },
  {
   "cell_type": "code",
   "execution_count": 37,
   "id": "74b2f627",
   "metadata": {},
   "outputs": [
    {
     "name": "stdout",
     "output_type": "stream",
     "text": [
      "# localhost is used to configure the loopback interface\n",
      "# when the system is booting.  Do not change this entry.\n",
      "##\n",
      "127.0.0.1\tlocalhost\n",
      "255.255.255.255\tbroadcasthost\n",
      "::1             localhost\n",
      "# Added by Docker Desktop\n",
      "# To allow the same kube context to work on the host and the container:\n",
      "127.0.0.1 kubernetes.docker.internal\n",
      "# End of section\n",
      "^C\n"
     ]
    }
   ],
   "source": [
    "# 마지막 10줄의 업데이트 갱신 대기 상태로 출력\n",
    "!tail -f ./hosts"
   ]
  },
  {
   "cell_type": "code",
   "execution_count": null,
   "id": "cd06e7b6",
   "metadata": {},
   "outputs": [],
   "source": []
  }
 ],
 "metadata": {
  "kernelspec": {
   "display_name": "Python 3 (ipykernel)",
   "language": "python",
   "name": "python3"
  },
  "language_info": {
   "codemirror_mode": {
    "name": "ipython",
    "version": 3
   },
   "file_extension": ".py",
   "mimetype": "text/x-python",
   "name": "python",
   "nbconvert_exporter": "python",
   "pygments_lexer": "ipython3",
   "version": "3.9.7"
  }
 },
 "nbformat": 4,
 "nbformat_minor": 5
}
