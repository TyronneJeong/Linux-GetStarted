{
 "cells": [
  {
   "cell_type": "markdown",
   "id": "f29f9220",
   "metadata": {},
   "source": [
    "# 다중명령어 사용\n",
    "\n",
    "하나 이상의 복수개의 명령어를 동시에 수행하는 기능\n",
    "\n",
    "**다중명령어 처리 기호**\n",
    "- **;** : 앞에서 뒤로 명령어를 순차적으로 실행 한다.\n",
    "- **&&** : 조건 연산자. 앞선 명령어가 <span style=\"color:red;font-weight:bold;\">성공</span>하면 뒤 따르는 명령어가 수행된다.\n",
    "- **||** : 조건 연산자. 앞선 명령어가 <span style=\"color:blue;font-weight:bold;\">실패</span>하면 뒤 따르는 명령어가 수행된다."
   ]
  },
  {
   "cell_type": "code",
   "execution_count": 2,
   "id": "f3b8948b",
   "metadata": {},
   "outputs": [
    {
     "name": "stdout",
     "output_type": "stream",
     "text": [
      "start\r\n",
      "shell  0.01s user 0.01s system 483% cpu 0.003 total\r\n",
      "children  0.00s user 0.00s system 0% cpu 0.003 total\r\n",
      "2021년 12월 11일 토요일 07시 44분 51초 JST\r\n",
      "daehwajeong console  Dec 10 16:40 \r\n",
      "daehwajeong ttys000  Dec 10 23:25 \r\n",
      "daehwajeong ttys002  Dec 11 07:08 \r\n",
      "end\r\n"
     ]
    }
   ],
   "source": [
    "# semi colon 예시\n",
    "!echo \"start\";time;date;who;echo \"end\""
   ]
  },
  {
   "cell_type": "code",
   "execution_count": 7,
   "id": "e55cfd6f",
   "metadata": {},
   "outputs": [
    {
     "name": "stdout",
     "output_type": "stream",
     "text": [
      "2021년 12월 11일 토요일 07시 46분 35초 JST\r\n",
      "shell  0.01s user 0.01s system 167% cpu 0.011 total\r\n",
      "children  0.00s user 0.00s system 33% cpu 0.011 total\r\n",
      "daehwajeong console  Dec 10 16:40 \r\n",
      "daehwajeong ttys000  Dec 10 23:25 \r\n",
      "daehwajeong ttys002  Dec 11 07:08 \r\n"
     ]
    }
   ],
   "source": [
    "# && 의 사용예시\n",
    "!date && time && who"
   ]
  },
  {
   "cell_type": "code",
   "execution_count": 13,
   "id": "d8211cab",
   "metadata": {},
   "outputs": [
    {
     "name": "stdout",
     "output_type": "stream",
     "text": [
      "2021년 12월 11일 토요일 07시 52분 13초 JST\n",
      "zsh:1: command not found: datee\n",
      "Noitce : command is failure\n"
     ]
    }
   ],
   "source": [
    "# || 의 사용예시\n",
    "!date  || echo \"Noitce : command is success\"\n",
    "!datee || echo \"Noitce : command is failure\""
   ]
  },
  {
   "cell_type": "code",
   "execution_count": null,
   "id": "c034d351",
   "metadata": {},
   "outputs": [],
   "source": []
  }
 ],
 "metadata": {
  "kernelspec": {
   "display_name": "Python 3 (ipykernel)",
   "language": "python",
   "name": "python3"
  },
  "language_info": {
   "codemirror_mode": {
    "name": "ipython",
    "version": 3
   },
   "file_extension": ".py",
   "mimetype": "text/x-python",
   "name": "python",
   "nbconvert_exporter": "python",
   "pygments_lexer": "ipython3",
   "version": "3.9.7"
  }
 },
 "nbformat": 4,
 "nbformat_minor": 5
}
